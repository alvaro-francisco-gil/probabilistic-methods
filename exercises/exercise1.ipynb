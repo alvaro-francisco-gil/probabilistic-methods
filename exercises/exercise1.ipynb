{
 "cells": [
  {
   "cell_type": "code",
   "execution_count": 1,
   "metadata": {},
   "outputs": [
    {
     "ename": "ModuleNotFoundError",
     "evalue": "No module named 'src'",
     "output_type": "error",
     "traceback": [
      "\u001b[31m---------------------------------------------------------------------------\u001b[39m",
      "\u001b[31mModuleNotFoundError\u001b[39m                       Traceback (most recent call last)",
      "\u001b[36mCell\u001b[39m\u001b[36m \u001b[39m\u001b[32mIn[1]\u001b[39m\u001b[32m, line 1\u001b[39m\n\u001b[32m----> \u001b[39m\u001b[32m1\u001b[39m \u001b[38;5;28;01mfrom\u001b[39;00m\u001b[38;5;250m \u001b[39m\u001b[34;01msrc\u001b[39;00m\u001b[34;01m.\u001b[39;00m\u001b[34;01mgraph_independence\u001b[39;00m\u001b[38;5;250m \u001b[39m\u001b[38;5;28;01mimport\u001b[39;00m GraphIndependence\n",
      "\u001b[31mModuleNotFoundError\u001b[39m: No module named 'src'"
     ]
    }
   ],
   "source": [
    "from src.graph_independence import GraphIndependence"
   ]
  },
  {
   "cell_type": "code",
   "execution_count": null,
   "metadata": {},
   "outputs": [],
   "source": [
    "nodes = ['A', 'B', 'C', 'D', 'E']\n",
    "edges = [\n",
    "    ('A', 'B'), ('A', 'C'), ('A', 'D'),\n",
    "    ('C', 'D'), ('B', 'E'), ('C', 'E'),\n",
    "    ('D', 'E')\n",
    "]\n",
    "\n",
    "# Initialize the graph\n",
    "gi = GraphIndependence(nodes, edges)\n",
    "\n",
    "# Define all relationships to check\n",
    "relationships = [\n",
    "    ('A', 'B', None),\n",
    "    ('A', 'D', None),\n",
    "    ('B', 'C', None),\n",
    "    ('C', 'D', None),\n",
    "    ('A', 'E', None),\n",
    "    ('B', 'C', {'A'}),\n",
    "    ('B', 'D', {'C'}),\n",
    "    ('B', 'C', {'A', 'E'}),\n",
    "    ('B', 'D', {'A', 'E'}),\n",
    "    ('A', 'E', {'B', 'C'}),\n",
    "    ('A', 'E', {'B', 'C', 'D'}),\n",
    "    ('B', 'C', {'A', 'D', 'E'})\n",
    "]\n",
    "\n",
    "# Analyze each relationship\n",
    "for X, Y, observed in relationships:\n",
    "    print(gi.analyze_relationship(X, Y, observed))\n",
    "    print(\"-\" * 50)\n"
   ]
  },
  {
   "cell_type": "code",
   "execution_count": null,
   "metadata": {},
   "outputs": [],
   "source": []
  }
 ],
 "metadata": {
  "kernelspec": {
   "display_name": "probabilistic-methods",
   "language": "python",
   "name": "python3"
  },
  "language_info": {
   "codemirror_mode": {
    "name": "ipython",
    "version": 3
   },
   "file_extension": ".py",
   "mimetype": "text/x-python",
   "name": "python",
   "nbconvert_exporter": "python",
   "pygments_lexer": "ipython3",
   "version": "3.11.11"
  }
 },
 "nbformat": 4,
 "nbformat_minor": 2
}
